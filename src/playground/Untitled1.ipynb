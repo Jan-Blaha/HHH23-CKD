{
 "cells": [
  {
   "cell_type": "code",
   "execution_count": 8,
   "id": "14823a6e-d1e2-48af-bc5c-957b712c689e",
   "metadata": {},
   "outputs": [],
   "source": [
    "import pickle\n",
    "import statsmodels \n",
    "import statsmodels.api as sm\n",
    "from statsmodels.treatment.treatment_effects import TreatmentEffect\n",
    "import scipy.stats\n",
    "import pandas as pd\n",
    "import numpy as np"
   ]
  },
  {
   "cell_type": "code",
   "execution_count": 2,
   "id": "a800f531-28c9-484e-84c0-27e5526dd8ad",
   "metadata": {},
   "outputs": [],
   "source": [
    "with open(\"../../data/acr_ols.pkl\", \"rb\") as f:\n",
    "    acr_pred_model = pickle.load(f)\n",
    "    \n",
    "with open(\"../../data/logreg.pkl\", \"rb\") as f:\n",
    "    test_pred_model = pickle.load(f)"
   ]
  },
  {
   "cell_type": "code",
   "execution_count": 3,
   "id": "26eac636-9559-48bb-97a6-8e406ebce5ec",
   "metadata": {},
   "outputs": [],
   "source": [
    "def get_diagnoses(df):\n",
    "    return [d for d in df.columns if d.startswith(\"d_\")]\n",
    "\n",
    "def get_other_covariates(df):\n",
    "    return [x for x in df.columns if x.startswith(\"x_\")]\n",
    "\n",
    "def get_outcome(df):\n",
    "    return [y for y in df.columns if y.startswith(\"y_\")]\n",
    "\n",
    "\n",
    "def get_acr_pred_data(df):\n",
    "    # keep relevant columns\n",
    "    columns_to_keep = df.filter(regex='^(d|x|y)').columns\n",
    "    df = df[columns_to_keep]\n",
    "    df = df.reindex(sorted(df.columns), axis=1)\n",
    "\n",
    "    # drop y_KREA\n",
    "    df = df.drop('y_KREA', axis=1)\n",
    "\n",
    "    # filter out the NaNs\n",
    "    df.dropna(how='any', axis=0, inplace=True)\n",
    "    df[\"x_sex\"] = df[\"x_sex\"].map({'M':0, 'F':1})\n",
    "\n",
    "    # throw out bottom and top 5%\n",
    "    bottom_percentile = df[\"y_ACR\"].quantile(0.05)\n",
    "    top_percentile = df[\"y_ACR\"].quantile(0.95)\n",
    "    df = df.sort_values(by=\"y_ACR\")\n",
    "    df = df[(df[\"y_ACR\"] > bottom_percentile) & (df[\"y_ACR\"] < top_percentile)]\n",
    "\n",
    "    y = df[\"y_ACR\"]\n",
    "    X = sm.add_constant(df.drop('y_ACR', axis=1).astype(float))\n",
    "    return X, y"
   ]
  },
  {
   "cell_type": "code",
   "execution_count": 4,
   "id": "bae4462d-053e-4dfa-b0c0-e429cb011c3d",
   "metadata": {},
   "outputs": [],
   "source": [
    "real_df = pd.read_csv(\"../../data/honza_jirka_data.csv\")"
   ]
  },
  {
   "cell_type": "code",
   "execution_count": 94,
   "id": "fe7cedaa-e5e3-454c-b6a0-174603fbf8d1",
   "metadata": {},
   "outputs": [
    {
     "data": {
      "text/plain": [
       "(60521, 1479)"
      ]
     },
     "execution_count": 94,
     "metadata": {},
     "output_type": "execute_result"
    }
   ],
   "source": [
    "# len(real_df[~real_df.x_sex.isna()])\n",
    "test_pred_model.model.exog.shape"
   ]
  },
  {
   "cell_type": "code",
   "execution_count": 5,
   "id": "7c11798c-0648-47ee-9ccb-73046d128af9",
   "metadata": {
    "tags": []
   },
   "outputs": [],
   "source": [
    "X, y = get_acr_pred_data(real_df)\n",
    "acr_pred_model.model.exog = X\n",
    "acr_pred_model.model.endog = y\n",
    "\n",
    "# print(acr_pred_model.model.exog.columns)\n",
    "# print(test_pred_model.model.exog.columns)\n",
    "\n",
    "\n",
    "\n",
    "test_pred_model.model.exog = X\n",
    "#test_pred_model.endog = 1"
   ]
  },
  {
   "cell_type": "markdown",
   "id": "a6f231c6-5684-449b-a060-05632c5d8886",
   "metadata": {
    "jp-MarkdownHeadingCollapsed": true,
    "tags": []
   },
   "source": [
    "# Blé"
   ]
  },
  {
   "cell_type": "code",
   "execution_count": 98,
   "id": "6b226f1b-d318-40f0-b564-0f0d435d849b",
   "metadata": {
    "tags": []
   },
   "outputs": [],
   "source": [
    "tr = TreatmentEffect(acr_pred_model.model, X[\"d_I10\"], test_pred_model)"
   ]
  },
  {
   "cell_type": "code",
   "execution_count": 75,
   "id": "1d770d8b-1d36-426f-b638-5694979eec5d",
   "metadata": {
    "jupyter": {
     "source_hidden": true
    },
    "tags": []
   },
   "outputs": [
    {
     "data": {
      "text/plain": [
       "(9121,)"
      ]
     },
     "execution_count": 75,
     "metadata": {},
     "output_type": "execute_result"
    }
   ],
   "source": [
    "X[\"d_I10\"].shape"
   ]
  },
  {
   "cell_type": "code",
   "execution_count": 99,
   "id": "4f68b8fb-5b8b-4e34-9cd0-792c10062dcb",
   "metadata": {},
   "outputs": [
    {
     "name": "stderr",
     "output_type": "stream",
     "text": [
      "/home/jan/mambaforge/envs/hhh/lib/python3.10/site-packages/statsmodels/treatment/treatment_effects.py:266: FutureWarning: Support for multi-dimensional indexing (e.g. `obj[:, None]`) is deprecated and will be removed in a future version.  Convert to a numpy array before indexing instead.\n",
      "  mm = (w * (endog - treat_ind.dot(tm)))[:, None] * treat_ind\n"
     ]
    },
    {
     "ename": "ValueError",
     "evalue": "operands could not be broadcast together with shapes (60521,) (9126,) ",
     "output_type": "error",
     "traceback": [
      "\u001b[0;31m---------------------------------------------------------------------------\u001b[0m",
      "\u001b[0;31mValueError\u001b[0m                                Traceback (most recent call last)",
      "Cell \u001b[0;32mIn [99], line 1\u001b[0m\n\u001b[0;32m----> 1\u001b[0m \u001b[43mtr\u001b[49m\u001b[38;5;241;43m.\u001b[39;49m\u001b[43mipw\u001b[49m\u001b[43m(\u001b[49m\u001b[43m)\u001b[49m\n",
      "File \u001b[0;32m~/mambaforge/envs/hhh/lib/python3.10/site-packages/statsmodels/treatment/treatment_effects.py:740\u001b[0m, in \u001b[0;36mTreatmentEffect.ipw\u001b[0;34m(self, return_results, effect_group, disp)\u001b[0m\n\u001b[1;32m    736\u001b[0m gmm \u001b[38;5;241m=\u001b[39m _IPWGMM(endog, \u001b[38;5;28mself\u001b[39m\u001b[38;5;241m.\u001b[39mresults_select, \u001b[38;5;28;01mNone\u001b[39;00m, teff\u001b[38;5;241m=\u001b[39m\u001b[38;5;28mself\u001b[39m,\n\u001b[1;32m    737\u001b[0m               effect_group\u001b[38;5;241m=\u001b[39meffect_group)\n\u001b[1;32m    738\u001b[0m start_params \u001b[38;5;241m=\u001b[39m np\u001b[38;5;241m.\u001b[39mconcatenate((res_ipw[:\u001b[38;5;241m2\u001b[39m],\n\u001b[1;32m    739\u001b[0m                                \u001b[38;5;28mself\u001b[39m\u001b[38;5;241m.\u001b[39mresults_select\u001b[38;5;241m.\u001b[39mparams))\n\u001b[0;32m--> 740\u001b[0m res_gmm \u001b[38;5;241m=\u001b[39m \u001b[43mgmm\u001b[49m\u001b[38;5;241;43m.\u001b[39;49m\u001b[43mfit\u001b[49m\u001b[43m(\u001b[49m\u001b[43mstart_params\u001b[49m\u001b[38;5;241;43m=\u001b[39;49m\u001b[43mstart_params\u001b[49m\u001b[43m,\u001b[49m\n\u001b[1;32m    741\u001b[0m \u001b[43m                  \u001b[49m\u001b[43minv_weights\u001b[49m\u001b[38;5;241;43m=\u001b[39;49m\u001b[43mnp\u001b[49m\u001b[38;5;241;43m.\u001b[39;49m\u001b[43meye\u001b[49m\u001b[43m(\u001b[49m\u001b[38;5;28;43mlen\u001b[39;49m\u001b[43m(\u001b[49m\u001b[43mstart_params\u001b[49m\u001b[43m)\u001b[49m\u001b[43m)\u001b[49m\u001b[43m,\u001b[49m\n\u001b[1;32m    742\u001b[0m \u001b[43m                  \u001b[49m\u001b[43moptim_method\u001b[49m\u001b[38;5;241;43m=\u001b[39;49m\u001b[38;5;124;43m'\u001b[39;49m\u001b[38;5;124;43mnm\u001b[39;49m\u001b[38;5;124;43m'\u001b[39;49m\u001b[43m,\u001b[49m\n\u001b[1;32m    743\u001b[0m \u001b[43m                  \u001b[49m\u001b[43moptim_args\u001b[49m\u001b[38;5;241;43m=\u001b[39;49m\u001b[43m{\u001b[49m\u001b[38;5;124;43m\"\u001b[39;49m\u001b[38;5;124;43mmaxiter\u001b[39;49m\u001b[38;5;124;43m\"\u001b[39;49m\u001b[43m:\u001b[49m\u001b[43m \u001b[49m\u001b[38;5;241;43m5000\u001b[39;49m\u001b[43m,\u001b[49m\u001b[43m \u001b[49m\u001b[38;5;124;43m\"\u001b[39;49m\u001b[38;5;124;43mdisp\u001b[39;49m\u001b[38;5;124;43m\"\u001b[39;49m\u001b[43m:\u001b[49m\u001b[43m \u001b[49m\u001b[43mdisp\u001b[49m\u001b[43m}\u001b[49m\u001b[43m,\u001b[49m\n\u001b[1;32m    744\u001b[0m \u001b[43m                  \u001b[49m\u001b[43mmaxiter\u001b[49m\u001b[38;5;241;43m=\u001b[39;49m\u001b[38;5;241;43m1\u001b[39;49m\u001b[43m,\u001b[49m\n\u001b[1;32m    745\u001b[0m \u001b[43m                  \u001b[49m\u001b[43m)\u001b[49m\n\u001b[1;32m    747\u001b[0m res \u001b[38;5;241m=\u001b[39m TreatmentEffectResults(\u001b[38;5;28mself\u001b[39m, res_gmm, \u001b[38;5;124m\"\u001b[39m\u001b[38;5;124mIPW\u001b[39m\u001b[38;5;124m\"\u001b[39m,\n\u001b[1;32m    748\u001b[0m                              start_params\u001b[38;5;241m=\u001b[39mstart_params,\n\u001b[1;32m    749\u001b[0m                              effect_group\u001b[38;5;241m=\u001b[39meffect_group,\n\u001b[1;32m    750\u001b[0m                              )\n\u001b[1;32m    751\u001b[0m \u001b[38;5;28;01mreturn\u001b[39;00m res\n",
      "File \u001b[0;32m~/mambaforge/envs/hhh/lib/python3.10/site-packages/statsmodels/sandbox/regression/gmm.py:670\u001b[0m, in \u001b[0;36mGMM.fit\u001b[0;34m(self, start_params, maxiter, inv_weights, weights_method, wargs, has_optimal_weights, optim_method, optim_args)\u001b[0m\n\u001b[1;32m    668\u001b[0m     weights_ \u001b[38;5;241m=\u001b[39m weights  \u001b[38;5;66;03m# temporary alias used in jval\u001b[39;00m\n\u001b[1;32m    669\u001b[0m \u001b[38;5;28;01melse\u001b[39;00m:\n\u001b[0;32m--> 670\u001b[0m     params, weights \u001b[38;5;241m=\u001b[39m \u001b[38;5;28;43mself\u001b[39;49m\u001b[38;5;241;43m.\u001b[39;49m\u001b[43mfititer\u001b[49m\u001b[43m(\u001b[49m\u001b[43mstart\u001b[49m\u001b[43m,\u001b[49m\n\u001b[1;32m    671\u001b[0m \u001b[43m                                   \u001b[49m\u001b[43mmaxiter\u001b[49m\u001b[38;5;241;43m=\u001b[39;49m\u001b[43mmaxiter\u001b[49m\u001b[43m,\u001b[49m\n\u001b[1;32m    672\u001b[0m \u001b[43m                                   \u001b[49m\u001b[43mstart_invweights\u001b[49m\u001b[38;5;241;43m=\u001b[39;49m\u001b[43minv_weights\u001b[49m\u001b[43m,\u001b[49m\n\u001b[1;32m    673\u001b[0m \u001b[43m                                   \u001b[49m\u001b[43mweights_method\u001b[49m\u001b[38;5;241;43m=\u001b[39;49m\u001b[43mweights_method\u001b[49m\u001b[43m,\u001b[49m\n\u001b[1;32m    674\u001b[0m \u001b[43m                                   \u001b[49m\u001b[43mwargs\u001b[49m\u001b[38;5;241;43m=\u001b[39;49m\u001b[43mwargs\u001b[49m\u001b[43m,\u001b[49m\n\u001b[1;32m    675\u001b[0m \u001b[43m                                   \u001b[49m\u001b[43moptim_method\u001b[49m\u001b[38;5;241;43m=\u001b[39;49m\u001b[43moptim_method\u001b[49m\u001b[43m,\u001b[49m\n\u001b[1;32m    676\u001b[0m \u001b[43m                                   \u001b[49m\u001b[43moptim_args\u001b[49m\u001b[38;5;241;43m=\u001b[39;49m\u001b[43moptim_args\u001b[49m\u001b[43m)\u001b[49m\n\u001b[1;32m    677\u001b[0m     \u001b[38;5;66;03m# TODO weights returned by fititer is inv_weights - not true anymore\u001b[39;00m\n\u001b[1;32m    678\u001b[0m     \u001b[38;5;66;03m# weights_ currently not necessary and used anymore\u001b[39;00m\n\u001b[1;32m    679\u001b[0m     weights_ \u001b[38;5;241m=\u001b[39m np\u001b[38;5;241m.\u001b[39mlinalg\u001b[38;5;241m.\u001b[39mpinv(weights)\n",
      "File \u001b[0;32m~/mambaforge/envs/hhh/lib/python3.10/site-packages/statsmodels/sandbox/regression/gmm.py:916\u001b[0m, in \u001b[0;36mGMM.fititer\u001b[0;34m(self, start, maxiter, start_invweights, weights_method, wargs, optim_method, optim_args)\u001b[0m\n\u001b[1;32m    912\u001b[0m             w \u001b[38;5;241m=\u001b[39m np\u001b[38;5;241m.\u001b[39mlinalg\u001b[38;5;241m.\u001b[39mpinv(winv)\n\u001b[1;32m    913\u001b[0m             \u001b[38;5;66;03m#this is still calling function not method\u001b[39;00m\n\u001b[1;32m    914\u001b[0m \u001b[38;5;66;03m##            resgmm = fitgmm(momcond, (), start, weights=winv, fixed=None,\u001b[39;00m\n\u001b[1;32m    915\u001b[0m \u001b[38;5;66;03m##                            weightsoptimal=False)\u001b[39;00m\n\u001b[0;32m--> 916\u001b[0m             resgmm \u001b[38;5;241m=\u001b[39m \u001b[38;5;28;43mself\u001b[39;49m\u001b[38;5;241;43m.\u001b[39;49m\u001b[43mfitgmm\u001b[49m\u001b[43m(\u001b[49m\u001b[43mstart\u001b[49m\u001b[43m,\u001b[49m\u001b[43m \u001b[49m\u001b[43mweights\u001b[49m\u001b[38;5;241;43m=\u001b[39;49m\u001b[43mw\u001b[49m\u001b[43m,\u001b[49m\u001b[43m \u001b[49m\u001b[43moptim_method\u001b[49m\u001b[38;5;241;43m=\u001b[39;49m\u001b[43moptim_method\u001b[49m\u001b[43m,\u001b[49m\n\u001b[1;32m    917\u001b[0m \u001b[43m                                 \u001b[49m\u001b[43moptim_args\u001b[49m\u001b[38;5;241;43m=\u001b[39;49m\u001b[43moptim_args\u001b[49m\u001b[43m)\u001b[49m\n\u001b[1;32m    919\u001b[0m             moms \u001b[38;5;241m=\u001b[39m momcond(resgmm)\n\u001b[1;32m    920\u001b[0m             \u001b[38;5;66;03m# the following is S = cov_moments\u001b[39;00m\n",
      "File \u001b[0;32m~/mambaforge/envs/hhh/lib/python3.10/site-packages/statsmodels/sandbox/regression/gmm.py:768\u001b[0m, in \u001b[0;36mGMM.fitgmm\u001b[0;34m(self, start, weights, optim_method, optim_args)\u001b[0m\n\u001b[1;32m    765\u001b[0m     \u001b[38;5;28mprint\u001b[39m(np\u001b[38;5;241m.\u001b[39mlinalg\u001b[38;5;241m.\u001b[39mdet(weights))\n\u001b[1;32m    767\u001b[0m \u001b[38;5;66;03m#TODO: add other optimization options and results\u001b[39;00m\n\u001b[0;32m--> 768\u001b[0m \u001b[38;5;28;01mreturn\u001b[39;00m \u001b[43moptimizer\u001b[49m\u001b[43m(\u001b[49m\u001b[38;5;28;43mself\u001b[39;49m\u001b[38;5;241;43m.\u001b[39;49m\u001b[43mgmmobjective\u001b[49m\u001b[43m,\u001b[49m\u001b[43m \u001b[49m\u001b[43mstart\u001b[49m\u001b[43m,\u001b[49m\u001b[43m \u001b[49m\u001b[43margs\u001b[49m\u001b[38;5;241;43m=\u001b[39;49m\u001b[43m(\u001b[49m\u001b[43mweights\u001b[49m\u001b[43m,\u001b[49m\u001b[43m)\u001b[49m\u001b[43m,\u001b[49m\n\u001b[1;32m    769\u001b[0m \u001b[43m                 \u001b[49m\u001b[38;5;241;43m*\u001b[39;49m\u001b[38;5;241;43m*\u001b[39;49m\u001b[43moptim_args\u001b[49m\u001b[43m)\u001b[49m\n",
      "File \u001b[0;32m~/mambaforge/envs/hhh/lib/python3.10/site-packages/scipy/optimize/_optimize.py:622\u001b[0m, in \u001b[0;36mfmin\u001b[0;34m(func, x0, args, xtol, ftol, maxiter, maxfun, full_output, disp, retall, callback, initial_simplex)\u001b[0m\n\u001b[1;32m    513\u001b[0m \u001b[38;5;124;03m\"\"\"\u001b[39;00m\n\u001b[1;32m    514\u001b[0m \u001b[38;5;124;03mMinimize a function using the downhill simplex algorithm.\u001b[39;00m\n\u001b[1;32m    515\u001b[0m \n\u001b[0;32m   (...)\u001b[0m\n\u001b[1;32m    612\u001b[0m \n\u001b[1;32m    613\u001b[0m \u001b[38;5;124;03m\"\"\"\u001b[39;00m\n\u001b[1;32m    614\u001b[0m opts \u001b[38;5;241m=\u001b[39m {\u001b[38;5;124m'\u001b[39m\u001b[38;5;124mxatol\u001b[39m\u001b[38;5;124m'\u001b[39m: xtol,\n\u001b[1;32m    615\u001b[0m         \u001b[38;5;124m'\u001b[39m\u001b[38;5;124mfatol\u001b[39m\u001b[38;5;124m'\u001b[39m: ftol,\n\u001b[1;32m    616\u001b[0m         \u001b[38;5;124m'\u001b[39m\u001b[38;5;124mmaxiter\u001b[39m\u001b[38;5;124m'\u001b[39m: maxiter,\n\u001b[0;32m   (...)\u001b[0m\n\u001b[1;32m    619\u001b[0m         \u001b[38;5;124m'\u001b[39m\u001b[38;5;124mreturn_all\u001b[39m\u001b[38;5;124m'\u001b[39m: retall,\n\u001b[1;32m    620\u001b[0m         \u001b[38;5;124m'\u001b[39m\u001b[38;5;124minitial_simplex\u001b[39m\u001b[38;5;124m'\u001b[39m: initial_simplex}\n\u001b[0;32m--> 622\u001b[0m res \u001b[38;5;241m=\u001b[39m \u001b[43m_minimize_neldermead\u001b[49m\u001b[43m(\u001b[49m\u001b[43mfunc\u001b[49m\u001b[43m,\u001b[49m\u001b[43m \u001b[49m\u001b[43mx0\u001b[49m\u001b[43m,\u001b[49m\u001b[43m \u001b[49m\u001b[43margs\u001b[49m\u001b[43m,\u001b[49m\u001b[43m \u001b[49m\u001b[43mcallback\u001b[49m\u001b[38;5;241;43m=\u001b[39;49m\u001b[43mcallback\u001b[49m\u001b[43m,\u001b[49m\u001b[43m \u001b[49m\u001b[38;5;241;43m*\u001b[39;49m\u001b[38;5;241;43m*\u001b[39;49m\u001b[43mopts\u001b[49m\u001b[43m)\u001b[49m\n\u001b[1;32m    623\u001b[0m \u001b[38;5;28;01mif\u001b[39;00m full_output:\n\u001b[1;32m    624\u001b[0m     retlist \u001b[38;5;241m=\u001b[39m res[\u001b[38;5;124m'\u001b[39m\u001b[38;5;124mx\u001b[39m\u001b[38;5;124m'\u001b[39m], res[\u001b[38;5;124m'\u001b[39m\u001b[38;5;124mfun\u001b[39m\u001b[38;5;124m'\u001b[39m], res[\u001b[38;5;124m'\u001b[39m\u001b[38;5;124mnit\u001b[39m\u001b[38;5;124m'\u001b[39m], res[\u001b[38;5;124m'\u001b[39m\u001b[38;5;124mnfev\u001b[39m\u001b[38;5;124m'\u001b[39m], res[\u001b[38;5;124m'\u001b[39m\u001b[38;5;124mstatus\u001b[39m\u001b[38;5;124m'\u001b[39m]\n",
      "File \u001b[0;32m~/mambaforge/envs/hhh/lib/python3.10/site-packages/scipy/optimize/_optimize.py:772\u001b[0m, in \u001b[0;36m_minimize_neldermead\u001b[0;34m(func, x0, args, callback, maxiter, maxfev, disp, return_all, initial_simplex, xatol, fatol, adaptive, bounds, **unknown_options)\u001b[0m\n\u001b[1;32m    770\u001b[0m \u001b[38;5;28;01mtry\u001b[39;00m:\n\u001b[1;32m    771\u001b[0m     \u001b[38;5;28;01mfor\u001b[39;00m k \u001b[38;5;129;01min\u001b[39;00m \u001b[38;5;28mrange\u001b[39m(N \u001b[38;5;241m+\u001b[39m \u001b[38;5;241m1\u001b[39m):\n\u001b[0;32m--> 772\u001b[0m         fsim[k] \u001b[38;5;241m=\u001b[39m \u001b[43mfunc\u001b[49m\u001b[43m(\u001b[49m\u001b[43msim\u001b[49m\u001b[43m[\u001b[49m\u001b[43mk\u001b[49m\u001b[43m]\u001b[49m\u001b[43m)\u001b[49m\n\u001b[1;32m    773\u001b[0m \u001b[38;5;28;01mexcept\u001b[39;00m _MaxFuncCallError:\n\u001b[1;32m    774\u001b[0m     \u001b[38;5;28;01mpass\u001b[39;00m\n",
      "File \u001b[0;32m~/mambaforge/envs/hhh/lib/python3.10/site-packages/scipy/optimize/_optimize.py:496\u001b[0m, in \u001b[0;36m_wrap_scalar_function_maxfun_validation.<locals>.function_wrapper\u001b[0;34m(x, *wrapper_args)\u001b[0m\n\u001b[1;32m    494\u001b[0m ncalls[\u001b[38;5;241m0\u001b[39m] \u001b[38;5;241m+\u001b[39m\u001b[38;5;241m=\u001b[39m \u001b[38;5;241m1\u001b[39m\n\u001b[1;32m    495\u001b[0m \u001b[38;5;66;03m# A copy of x is sent to the user function (gh13740)\u001b[39;00m\n\u001b[0;32m--> 496\u001b[0m fx \u001b[38;5;241m=\u001b[39m \u001b[43mfunction\u001b[49m\u001b[43m(\u001b[49m\u001b[43mnp\u001b[49m\u001b[38;5;241;43m.\u001b[39;49m\u001b[43mcopy\u001b[49m\u001b[43m(\u001b[49m\u001b[43mx\u001b[49m\u001b[43m)\u001b[49m\u001b[43m,\u001b[49m\u001b[43m \u001b[49m\u001b[38;5;241;43m*\u001b[39;49m\u001b[43m(\u001b[49m\u001b[43mwrapper_args\u001b[49m\u001b[43m \u001b[49m\u001b[38;5;241;43m+\u001b[39;49m\u001b[43m \u001b[49m\u001b[43margs\u001b[49m\u001b[43m)\u001b[49m\u001b[43m)\u001b[49m\n\u001b[1;32m    497\u001b[0m \u001b[38;5;66;03m# Ideally, we'd like to a have a true scalar returned from f(x). For\u001b[39;00m\n\u001b[1;32m    498\u001b[0m \u001b[38;5;66;03m# backwards-compatibility, also allow np.array([1.3]),\u001b[39;00m\n\u001b[1;32m    499\u001b[0m \u001b[38;5;66;03m# np.array([[1.3]]) etc.\u001b[39;00m\n\u001b[1;32m    500\u001b[0m \u001b[38;5;28;01mif\u001b[39;00m \u001b[38;5;129;01mnot\u001b[39;00m np\u001b[38;5;241m.\u001b[39misscalar(fx):\n",
      "File \u001b[0;32m~/mambaforge/envs/hhh/lib/python3.10/site-packages/statsmodels/sandbox/regression/gmm.py:832\u001b[0m, in \u001b[0;36mGMM.gmmobjective\u001b[0;34m(self, params, weights)\u001b[0m\n\u001b[1;32m    815\u001b[0m \u001b[38;5;28;01mdef\u001b[39;00m \u001b[38;5;21mgmmobjective\u001b[39m(\u001b[38;5;28mself\u001b[39m, params, weights):\n\u001b[1;32m    816\u001b[0m     \u001b[38;5;124;03m'''\u001b[39;00m\n\u001b[1;32m    817\u001b[0m \u001b[38;5;124;03m    objective function for GMM minimization\u001b[39;00m\n\u001b[1;32m    818\u001b[0m \n\u001b[0;32m   (...)\u001b[0m\n\u001b[1;32m    830\u001b[0m \n\u001b[1;32m    831\u001b[0m \u001b[38;5;124;03m    '''\u001b[39;00m\n\u001b[0;32m--> 832\u001b[0m     moms \u001b[38;5;241m=\u001b[39m \u001b[38;5;28;43mself\u001b[39;49m\u001b[38;5;241;43m.\u001b[39;49m\u001b[43mmomcond_mean\u001b[49m\u001b[43m(\u001b[49m\u001b[43mparams\u001b[49m\u001b[43m)\u001b[49m\n\u001b[1;32m    833\u001b[0m     \u001b[38;5;28;01mreturn\u001b[39;00m np\u001b[38;5;241m.\u001b[39mdot(np\u001b[38;5;241m.\u001b[39mdot(moms, weights), moms)\n",
      "File \u001b[0;32m~/mambaforge/envs/hhh/lib/python3.10/site-packages/statsmodels/sandbox/regression/gmm.py:1070\u001b[0m, in \u001b[0;36mGMM.momcond_mean\u001b[0;34m(self, params)\u001b[0m\n\u001b[1;32m   1064\u001b[0m \u001b[38;5;28;01mdef\u001b[39;00m \u001b[38;5;21mmomcond_mean\u001b[39m(\u001b[38;5;28mself\u001b[39m, params):\n\u001b[1;32m   1065\u001b[0m     \u001b[38;5;124;03m'''\u001b[39;00m\n\u001b[1;32m   1066\u001b[0m \u001b[38;5;124;03m    mean of moment conditions,\u001b[39;00m\n\u001b[1;32m   1067\u001b[0m \n\u001b[1;32m   1068\u001b[0m \u001b[38;5;124;03m    '''\u001b[39;00m\n\u001b[0;32m-> 1070\u001b[0m     momcond \u001b[38;5;241m=\u001b[39m \u001b[38;5;28;43mself\u001b[39;49m\u001b[38;5;241;43m.\u001b[39;49m\u001b[43mmomcond\u001b[49m\u001b[43m(\u001b[49m\u001b[43mparams\u001b[49m\u001b[43m)\u001b[49m\n\u001b[1;32m   1071\u001b[0m     \u001b[38;5;28mself\u001b[39m\u001b[38;5;241m.\u001b[39mnobs_moms, \u001b[38;5;28mself\u001b[39m\u001b[38;5;241m.\u001b[39mk_moms \u001b[38;5;241m=\u001b[39m momcond\u001b[38;5;241m.\u001b[39mshape\n\u001b[1;32m   1072\u001b[0m     \u001b[38;5;28;01mreturn\u001b[39;00m momcond\u001b[38;5;241m.\u001b[39mmean(\u001b[38;5;241m0\u001b[39m)\n",
      "File \u001b[0;32m~/mambaforge/envs/hhh/lib/python3.10/site-packages/statsmodels/treatment/treatment_effects.py:268\u001b[0m, in \u001b[0;36m_IPWGMM.momcond\u001b[0;34m(self, params)\u001b[0m\n\u001b[1;32m    265\u001b[0m treat_ind \u001b[38;5;241m=\u001b[39m np\u001b[38;5;241m.\u001b[39mcolumn_stack((tind, np\u001b[38;5;241m.\u001b[39mones(\u001b[38;5;28mlen\u001b[39m(tind))))\n\u001b[1;32m    266\u001b[0m mm \u001b[38;5;241m=\u001b[39m (w \u001b[38;5;241m*\u001b[39m (endog \u001b[38;5;241m-\u001b[39m treat_ind\u001b[38;5;241m.\u001b[39mdot(tm)))[:, \u001b[38;5;28;01mNone\u001b[39;00m] \u001b[38;5;241m*\u001b[39m treat_ind\n\u001b[0;32m--> 268\u001b[0m mom_select \u001b[38;5;241m=\u001b[39m \u001b[43mres_select\u001b[49m\u001b[38;5;241;43m.\u001b[39;49m\u001b[43mmodel\u001b[49m\u001b[38;5;241;43m.\u001b[39;49m\u001b[43mscore_obs\u001b[49m\u001b[43m(\u001b[49m\u001b[43mps\u001b[49m\u001b[43m)\u001b[49m\n\u001b[1;32m    269\u001b[0m moms \u001b[38;5;241m=\u001b[39m np\u001b[38;5;241m.\u001b[39mcolumn_stack((mm, mom_select))\n\u001b[1;32m    270\u001b[0m \u001b[38;5;28;01mreturn\u001b[39;00m moms\n",
      "File \u001b[0;32m~/mambaforge/envs/hhh/lib/python3.10/site-packages/statsmodels/discrete/discrete_model.py:2524\u001b[0m, in \u001b[0;36mLogit.score_obs\u001b[0;34m(self, params)\u001b[0m\n\u001b[1;32m   2522\u001b[0m X \u001b[38;5;241m=\u001b[39m \u001b[38;5;28mself\u001b[39m\u001b[38;5;241m.\u001b[39mexog\n\u001b[1;32m   2523\u001b[0m fitted \u001b[38;5;241m=\u001b[39m \u001b[38;5;28mself\u001b[39m\u001b[38;5;241m.\u001b[39mpredict(params)\n\u001b[0;32m-> 2524\u001b[0m \u001b[38;5;28;01mreturn\u001b[39;00m (\u001b[43my\u001b[49m\u001b[43m \u001b[49m\u001b[38;5;241;43m-\u001b[39;49m\u001b[43m \u001b[49m\u001b[43mfitted\u001b[49m)[:,\u001b[38;5;28;01mNone\u001b[39;00m] \u001b[38;5;241m*\u001b[39m X\n",
      "\u001b[0;31mValueError\u001b[0m: operands could not be broadcast together with shapes (60521,) (9126,) "
     ]
    }
   ],
   "source": [
    "tr.ipw()"
   ]
  },
  {
   "cell_type": "code",
   "execution_count": null,
   "id": "ce5cf5eb-e4d9-46bd-bece-5824eaac8765",
   "metadata": {},
   "outputs": [],
   "source": [
    "\n"
   ]
  },
  {
   "cell_type": "code",
   "execution_count": 29,
   "id": "e770876b-5a7d-4e5a-8b00-4d0d6470c51f",
   "metadata": {},
   "outputs": [
    {
     "data": {
      "text/plain": [
       "0.8413447460685429"
      ]
     },
     "execution_count": 29,
     "metadata": {},
     "output_type": "execute_result"
    }
   ],
   "source": [
    "# def risk(pred_mean, pred_sd, risk_threshold):\n",
    "#     return 1 - scipy.stats.distributions.norm.cdf(risk_threshold, loc=pred_mean, scale=pred_sd)\n",
    "\n",
    "# risk(0, 1, -1)"
   ]
  },
  {
   "cell_type": "markdown",
   "id": "996b4d01-31a7-4fbb-9df0-b951ef4f357c",
   "metadata": {},
   "source": [
    "# New"
   ]
  },
  {
   "cell_type": "code",
   "execution_count": null,
   "id": "2f649418-b65e-4220-b213-30cd556af73a",
   "metadata": {},
   "outputs": [],
   "source": [
    "df = pd.read_csv(Path(__file__).parent.parent / \"data\" / \"honza_jirka_data.csv\", delimiter=\",\")\n",
    "\n",
    "# keep relevant columns\n",
    "columns_to_keep = df.filter(regex='^(d|x|y)').columns\n",
    "df = df[columns_to_keep]\n",
    "df = df.reindex(sorted(df.columns), axis=1)\n",
    "\n",
    "# drop y_KREA, map x_sex\n",
    "df = df.drop('y_KREA', axis=1)\n",
    "df[\"x_sex\"] = df[\"x_sex\"].map({'M':0, 'F':1})\n",
    "\n",
    "# get label and drop\n",
    "y = (~(df[\"y_ACR\"].isna())).astype(int)\n",
    "df = df.drop(\"y_ACR\", axis=1)\n",
    "\n",
    "# get indices of rows with valid features\n",
    "indices = df[df.notna().all(axis=1)].index\n",
    "y = y.loc[indices]\n",
    "X = df.loc[indices].astype(float)\n",
    "\n",
    "\n",
    "# train model on whole data\n",
    "X = sm.add_constant(X)\n",
    "logreg_model = sm.Logit(y, X)\n",
    "result = logreg_model.fit(disp=True, method='lbfgs', maxiter=max_iter)\n",
    "print(result.summary())\n",
    "\n",
    "# save model and the columns\n",
    "#with open('logreg.pkl', 'wb') as f:\n",
    "#    pickle.dump(result, f)\n",
    "result.save('logreg.pkl')\n",
    "\n",
    "\n",
    "\n",
    "\n",
    "\n",
    "# keep relevant columns\n",
    "columns_to_keep = df.filter(regex='^(d|x|y)').columns\n",
    "df = df[columns_to_keep]\n",
    "df = df.reindex(sorted(df.columns), axis=1)\n",
    "\n",
    "# drop y_KREA\n",
    "df = df.drop('y_KREA', axis=1)\n",
    "\n",
    "# filter out the NaNs\n",
    "df.dropna(how='any', axis=0, inplace=True)\n",
    "df[\"x_sex\"] = df[\"x_sex\"].map({'M':0, 'F':1})\n",
    "\n",
    "# throw out bottom and top 5%\n",
    "bottom_percentile = df[\"y_ACR\"].quantile(0.05)\n",
    "top_percentile = df[\"y_ACR\"].quantile(0.95)\n",
    "df = df.sort_values(by=\"y_ACR\")\n",
    "df = df[(df[\"y_ACR\"] > bottom_percentile) & (df[\"y_ACR\"] < top_percentile)]\n",
    "\n",
    "y = df[\"y_ACR\"]\n",
    "X = sm.add_constant(df.drop('y_ACR', axis=1).astype(float))\n",
    "\n",
    "\n",
    "# p = 0.3\n",
    "# ind = np.random.choice([True, False], p=(p, 1-p), size=len(X))\n",
    "ind = np.ones_like(y, dtype=bool)\n",
    "X_sub = X.loc[ind]\n",
    "y_sub = y.loc[ind]\n",
    "\n",
    "mod = sm.GLM(y_sub, X_sub, freq_weights=(1/test_pred_model.predict())[ind])\n",
    "result = mod.fit()\n",
    "result.summary()\n",
    "\n",
    "p = result.get_prediction()\n",
    "\n",
    "dir(p)\n",
    "p.summary_frame()\n",
    "\n",
    "\n",
    "result.save('glm_acr.pkl')"
   ]
  },
  {
   "cell_type": "code",
   "execution_count": 54,
   "id": "5f2a29ce-1f4f-4338-bf06-72dd702a19ad",
   "metadata": {},
   "outputs": [
    {
     "data": {
      "text/html": [
       "<div>\n",
       "<style scoped>\n",
       "    .dataframe tbody tr th:only-of-type {\n",
       "        vertical-align: middle;\n",
       "    }\n",
       "\n",
       "    .dataframe tbody tr th {\n",
       "        vertical-align: top;\n",
       "    }\n",
       "\n",
       "    .dataframe thead th {\n",
       "        text-align: right;\n",
       "    }\n",
       "</style>\n",
       "<table border=\"1\" class=\"dataframe\">\n",
       "  <thead>\n",
       "    <tr style=\"text-align: right;\">\n",
       "      <th></th>\n",
       "      <th>mean</th>\n",
       "      <th>mean_se</th>\n",
       "      <th>mean_ci_lower</th>\n",
       "      <th>mean_ci_upper</th>\n",
       "    </tr>\n",
       "  </thead>\n",
       "  <tbody>\n",
       "    <tr>\n",
       "      <th>23611</th>\n",
       "      <td>-0.064059</td>\n",
       "      <td>0.168761</td>\n",
       "      <td>-0.394823</td>\n",
       "      <td>0.266706</td>\n",
       "    </tr>\n",
       "    <tr>\n",
       "      <th>44913</th>\n",
       "      <td>2.090701</td>\n",
       "      <td>0.030705</td>\n",
       "      <td>2.030520</td>\n",
       "      <td>2.150882</td>\n",
       "    </tr>\n",
       "    <tr>\n",
       "      <th>31115</th>\n",
       "      <td>0.029706</td>\n",
       "      <td>0.333177</td>\n",
       "      <td>-0.623309</td>\n",
       "      <td>0.682721</td>\n",
       "    </tr>\n",
       "    <tr>\n",
       "      <th>44774</th>\n",
       "      <td>7.048457</td>\n",
       "      <td>0.222006</td>\n",
       "      <td>6.613333</td>\n",
       "      <td>7.483581</td>\n",
       "    </tr>\n",
       "    <tr>\n",
       "      <th>36685</th>\n",
       "      <td>2.026672</td>\n",
       "      <td>0.037503</td>\n",
       "      <td>1.953168</td>\n",
       "      <td>2.100175</td>\n",
       "    </tr>\n",
       "    <tr>\n",
       "      <th>...</th>\n",
       "      <td>...</td>\n",
       "      <td>...</td>\n",
       "      <td>...</td>\n",
       "      <td>...</td>\n",
       "    </tr>\n",
       "    <tr>\n",
       "      <th>40344</th>\n",
       "      <td>57.180611</td>\n",
       "      <td>0.034342</td>\n",
       "      <td>57.113301</td>\n",
       "      <td>57.247921</td>\n",
       "    </tr>\n",
       "    <tr>\n",
       "      <th>9036</th>\n",
       "      <td>51.776801</td>\n",
       "      <td>0.321808</td>\n",
       "      <td>51.146069</td>\n",
       "      <td>52.407533</td>\n",
       "    </tr>\n",
       "    <tr>\n",
       "      <th>31038</th>\n",
       "      <td>43.101822</td>\n",
       "      <td>0.229421</td>\n",
       "      <td>42.652166</td>\n",
       "      <td>43.551478</td>\n",
       "    </tr>\n",
       "    <tr>\n",
       "      <th>49806</th>\n",
       "      <td>12.442539</td>\n",
       "      <td>0.280322</td>\n",
       "      <td>11.893119</td>\n",
       "      <td>12.991959</td>\n",
       "    </tr>\n",
       "    <tr>\n",
       "      <th>2022</th>\n",
       "      <td>58.305798</td>\n",
       "      <td>0.773601</td>\n",
       "      <td>56.789568</td>\n",
       "      <td>59.822027</td>\n",
       "    </tr>\n",
       "  </tbody>\n",
       "</table>\n",
       "<p>2722 rows × 4 columns</p>\n",
       "</div>"
      ],
      "text/plain": [
       "            mean   mean_se  mean_ci_lower  mean_ci_upper\n",
       "23611  -0.064059  0.168761      -0.394823       0.266706\n",
       "44913   2.090701  0.030705       2.030520       2.150882\n",
       "31115   0.029706  0.333177      -0.623309       0.682721\n",
       "44774   7.048457  0.222006       6.613333       7.483581\n",
       "36685   2.026672  0.037503       1.953168       2.100175\n",
       "...          ...       ...            ...            ...\n",
       "40344  57.180611  0.034342      57.113301      57.247921\n",
       "9036   51.776801  0.321808      51.146069      52.407533\n",
       "31038  43.101822  0.229421      42.652166      43.551478\n",
       "49806  12.442539  0.280322      11.893119      12.991959\n",
       "2022   58.305798  0.773601      56.789568      59.822027\n",
       "\n",
       "[2722 rows x 4 columns]"
      ]
     },
     "execution_count": 54,
     "metadata": {},
     "output_type": "execute_result"
    }
   ],
   "source": [
    "# mod = sm.OLS(y, X)\n",
    "# result = mod.fit()\n",
    "# result.summary()\n",
    "\n",
    "p = 0.3\n",
    "ind = np.random.choice([True, False], p=(p, 1-p), size=len(X))\n",
    "# ind = np.ones_like(y, dtype=bool)\n",
    "X_sub = X.loc[ind]\n",
    "y_sub = y.loc[ind]\n",
    "\n",
    "mod = sm.GLM(y_sub, X_sub, freq_weights=(1/test_pred_model.predict())[ind])\n",
    "result = mod.fit()\n",
    "result.summary()\n",
    "\n",
    "p = result.get_prediction()\n",
    "\n",
    "dir(p)\n",
    "p.summary_frame()\n",
    "\n",
    "\n",
    "# glm = smf.glm(\n",
    "#     \"affairs ~ rate_marriage + age + yrs_married\",\n",
    "#     data=dc,\n",
    "#     family=sm.families.Poisson(),\n",
    "#     freq_weights=np.asarray(dc[\"freq\"]),\n",
    "# )\n",
    "# res_f = glm.fit()\n",
    "# print(res_f.summary())"
   ]
  },
  {
   "cell_type": "code",
   "execution_count": 55,
   "id": "9c598d2c-1fd6-4b3b-964c-5105da61c976",
   "metadata": {},
   "outputs": [
    {
     "data": {
      "text/html": [
       "<div>\n",
       "<style scoped>\n",
       "    .dataframe tbody tr th:only-of-type {\n",
       "        vertical-align: middle;\n",
       "    }\n",
       "\n",
       "    .dataframe tbody tr th {\n",
       "        vertical-align: top;\n",
       "    }\n",
       "\n",
       "    .dataframe thead th {\n",
       "        text-align: right;\n",
       "    }\n",
       "</style>\n",
       "<table border=\"1\" class=\"dataframe\">\n",
       "  <thead>\n",
       "    <tr style=\"text-align: right;\">\n",
       "      <th></th>\n",
       "      <th>mean</th>\n",
       "      <th>mean_se</th>\n",
       "      <th>mean_ci_lower</th>\n",
       "      <th>mean_ci_upper</th>\n",
       "    </tr>\n",
       "  </thead>\n",
       "  <tbody>\n",
       "    <tr>\n",
       "      <th>count</th>\n",
       "      <td>2722.000000</td>\n",
       "      <td>2722.000000</td>\n",
       "      <td>2722.000000</td>\n",
       "      <td>2722.000000</td>\n",
       "    </tr>\n",
       "    <tr>\n",
       "      <th>mean</th>\n",
       "      <td>5.513714</td>\n",
       "      <td>0.290204</td>\n",
       "      <td>4.944925</td>\n",
       "      <td>6.082502</td>\n",
       "    </tr>\n",
       "    <tr>\n",
       "      <th>std</th>\n",
       "      <td>8.215886</td>\n",
       "      <td>0.217894</td>\n",
       "      <td>8.220306</td>\n",
       "      <td>8.233644</td>\n",
       "    </tr>\n",
       "    <tr>\n",
       "      <th>min</th>\n",
       "      <td>-20.252072</td>\n",
       "      <td>0.001457</td>\n",
       "      <td>-21.088860</td>\n",
       "      <td>-19.415284</td>\n",
       "    </tr>\n",
       "    <tr>\n",
       "      <th>25%</th>\n",
       "      <td>1.351226</td>\n",
       "      <td>0.097178</td>\n",
       "      <td>0.783055</td>\n",
       "      <td>1.948644</td>\n",
       "    </tr>\n",
       "    <tr>\n",
       "      <th>50%</th>\n",
       "      <td>3.658123</td>\n",
       "      <td>0.242030</td>\n",
       "      <td>3.243063</td>\n",
       "      <td>4.077519</td>\n",
       "    </tr>\n",
       "    <tr>\n",
       "      <th>75%</th>\n",
       "      <td>7.263421</td>\n",
       "      <td>0.438987</td>\n",
       "      <td>6.803255</td>\n",
       "      <td>7.748551</td>\n",
       "    </tr>\n",
       "    <tr>\n",
       "      <th>max</th>\n",
       "      <td>58.305798</td>\n",
       "      <td>0.808882</td>\n",
       "      <td>57.113301</td>\n",
       "      <td>59.822027</td>\n",
       "    </tr>\n",
       "  </tbody>\n",
       "</table>\n",
       "</div>"
      ],
      "text/plain": [
       "              mean      mean_se  mean_ci_lower  mean_ci_upper\n",
       "count  2722.000000  2722.000000    2722.000000    2722.000000\n",
       "mean      5.513714     0.290204       4.944925       6.082502\n",
       "std       8.215886     0.217894       8.220306       8.233644\n",
       "min     -20.252072     0.001457     -21.088860     -19.415284\n",
       "25%       1.351226     0.097178       0.783055       1.948644\n",
       "50%       3.658123     0.242030       3.243063       4.077519\n",
       "75%       7.263421     0.438987       6.803255       7.748551\n",
       "max      58.305798     0.808882      57.113301      59.822027"
      ]
     },
     "execution_count": 55,
     "metadata": {},
     "output_type": "execute_result"
    }
   ],
   "source": [
    "p.summary_frame().describe()"
   ]
  },
  {
   "cell_type": "code",
   "execution_count": 41,
   "id": "b0c7d1d1-7456-495f-9385-f7a36617be37",
   "metadata": {},
   "outputs": [
    {
     "data": {
      "text/plain": [
       "(9126, 9126, 903)"
      ]
     },
     "execution_count": 41,
     "metadata": {},
     "output_type": "execute_result"
    }
   ],
   "source": [
    "len(test_pred_model.predict()), len(X), len(X_sub)"
   ]
  },
  {
   "cell_type": "code",
   "execution_count": null,
   "id": "b4e08c50-3dd0-4883-9eda-b656d3a01ca0",
   "metadata": {},
   "outputs": [],
   "source": []
  }
 ],
 "metadata": {
  "kernelspec": {
   "display_name": "Python 3 (ipykernel)",
   "language": "python",
   "name": "python3"
  },
  "language_info": {
   "codemirror_mode": {
    "name": "ipython",
    "version": 3
   },
   "file_extension": ".py",
   "mimetype": "text/x-python",
   "name": "python",
   "nbconvert_exporter": "python",
   "pygments_lexer": "ipython3",
   "version": "3.10.6"
  }
 },
 "nbformat": 4,
 "nbformat_minor": 5
}
